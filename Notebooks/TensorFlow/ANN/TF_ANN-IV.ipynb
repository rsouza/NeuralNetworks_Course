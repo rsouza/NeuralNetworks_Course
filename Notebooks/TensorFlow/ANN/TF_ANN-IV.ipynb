{
 "cells": [
  {
   "cell_type": "markdown",
   "metadata": {
    "_uuid": "ed4cd7c86887522b8c8d4b8c3c53ba1027949f9b"
   },
   "source": [
    "<h1 style=\"color:rgb(0,120,170)\">Neural Networks and Deep Learning</h1>\n",
    "<h2 style=\"color:rgb(0,120,170)\">Intro to Tensor Flow and Keras</h2>\n",
    "<h2 style=\"color:rgb(0,120,170)\">Testing model hiperparameters</h2>\n"
   ]
  },
  {
   "cell_type": "markdown",
   "metadata": {},
   "source": [
    "!pip install -U tensorflow tensorboard"
   ]
  },
  {
   "cell_type": "code",
   "execution_count": 1,
   "metadata": {
    "_cell_guid": "b1076dfc-b9ad-4769-8c92-a6c4dae69d19",
    "_uuid": "8f2839f25d086af736a60e9eeb907d3b93b6e0e5"
   },
   "outputs": [],
   "source": [
    "import os\n",
    "import sys\n",
    "#import re\n",
    "import time\n",
    "import datetime\n",
    "import warnings\n",
    "warnings.filterwarnings(\"ignore\")\n",
    "\n",
    "import numpy as np\n",
    "import pandas as pd\n",
    "import matplotlib.pyplot as plt\n",
    "import seaborn as sns\n",
    "sns.set_style(\"darkgrid\")\n",
    "%matplotlib inline\n",
    "\n",
    "from sklearn.model_selection import train_test_split\n",
    "\n",
    "import tensorflow as tf\n",
    "from tensorboard.plugins.hparams import api_pb2\n",
    "from tensorboard.plugins.hparams import summary as hparams_summary\n",
    "%load_ext tensorboard\n",
    "\n",
    "from google.protobuf import struct_pb2"
   ]
  },
  {
   "cell_type": "code",
   "execution_count": 2,
   "metadata": {},
   "outputs": [
    {
     "name": "stdout",
     "output_type": "stream",
     "text": [
      "2.8.0\n",
      "[PhysicalDevice(name='/physical_device:GPU:0', device_type='GPU')]\n"
     ]
    },
    {
     "name": "stderr",
     "output_type": "stream",
     "text": [
      "2022-02-19 10:18:41.798402: I tensorflow/stream_executor/cuda/cuda_gpu_executor.cc:936] successful NUMA node read from SysFS had negative value (-1), but there must be at least one NUMA node, so returning NUMA node zero\n",
      "2022-02-19 10:18:41.826584: I tensorflow/stream_executor/cuda/cuda_gpu_executor.cc:936] successful NUMA node read from SysFS had negative value (-1), but there must be at least one NUMA node, so returning NUMA node zero\n",
      "2022-02-19 10:18:41.826739: I tensorflow/stream_executor/cuda/cuda_gpu_executor.cc:936] successful NUMA node read from SysFS had negative value (-1), but there must be at least one NUMA node, so returning NUMA node zero\n"
     ]
    }
   ],
   "source": [
    "print(tf.__version__)\n",
    "try:\n",
    "    physical_devices = tf.config.list_physical_devices('GPU') \n",
    "    #tf.config.experimental.set_memory_growth(physical_devices[0], True)\n",
    "    for device in physical_devices:\n",
    "        tf.config.experimental.set_memory_growth(device, True)\n",
    "    print(physical_devices)\n",
    "except:\n",
    "    print(\"No GPU\")"
   ]
  },
  {
   "cell_type": "code",
   "execution_count": 3,
   "metadata": {},
   "outputs": [
    {
     "name": "stdout",
     "output_type": "stream",
     "text": [
      "['Conv1D.xlsx', 'best_model.h5', 'Conv2D.xlsx', 'best_parameters_svm.pickle', 'UK_LSOA_bounding_boxes.csv', 'kaggle_titanic_test.csv', 'Concrete_Data.xlsx', 'winequality-red.csv', 'London_accidents_merged.csv', 'Population_density.csv', 'tweets.csv.gz', 'Traffic_averages.csv', 'Conv3D.xlsx', 'gender_submission.csv', 'pima-indians-diabetes.csv', 'model3_safe_dataset.csv', 'wonderland.txt', 'ion.csv', 'kaggle_digits_train.zip', 'MNIST', 'kaggle_titanic_train.csv', 'kaggle_digits_test.zip', 'kaggle_digits_sample_submission.csv', 'titanic.jpeg', 'airbnb.csv']\n"
     ]
    }
   ],
   "source": [
    "print(os.listdir(\"../../../data\"))\n",
    "\n",
    "# Clear any logs from previous runs\n",
    "#!rm -rf ./logs/ "
   ]
  },
  {
   "cell_type": "markdown",
   "metadata": {},
   "source": [
    "## 1st - [Concrete data](https://medium.com/@rahul.raoniar/hyperparameter-tuning-of-keras-deep-learning-model-in-python-e426c94a43d7)"
   ]
  },
  {
   "cell_type": "code",
   "execution_count": 4,
   "metadata": {},
   "outputs": [],
   "source": [
    "from tensorflow.keras.layers import Dense, BatchNormalization, Dropout\n",
    "from tensorflow.keras.models import Sequential\n",
    "from tensorflow.keras.wrappers.scikit_learn import KerasRegressor\n",
    "from tensorflow.keras.optimizers import Adam\n",
    "from tensorflow.keras import regularizers\n",
    "\n",
    "from sklearn import preprocessing\n",
    "from sklearn.model_selection import RandomizedSearchCV, KFold, cross_val_score"
   ]
  },
  {
   "cell_type": "code",
   "execution_count": 5,
   "metadata": {},
   "outputs": [
    {
     "data": {
      "text/html": [
       "<div>\n",
       "<style scoped>\n",
       "    .dataframe tbody tr th:only-of-type {\n",
       "        vertical-align: middle;\n",
       "    }\n",
       "\n",
       "    .dataframe tbody tr th {\n",
       "        vertical-align: top;\n",
       "    }\n",
       "\n",
       "    .dataframe thead th {\n",
       "        text-align: right;\n",
       "    }\n",
       "</style>\n",
       "<table border=\"1\" class=\"dataframe\">\n",
       "  <thead>\n",
       "    <tr style=\"text-align: right;\">\n",
       "      <th></th>\n",
       "      <th>Cement</th>\n",
       "      <th>BF_slag</th>\n",
       "      <th>Fly_ash</th>\n",
       "      <th>Water</th>\n",
       "      <th>Super_plasticizer</th>\n",
       "      <th>Coarse_aggregate</th>\n",
       "      <th>Fine_aggregate</th>\n",
       "      <th>Age</th>\n",
       "      <th>Comp_str</th>\n",
       "    </tr>\n",
       "  </thead>\n",
       "  <tbody>\n",
       "    <tr>\n",
       "      <th>0</th>\n",
       "      <td>540.0</td>\n",
       "      <td>0.0</td>\n",
       "      <td>0.0</td>\n",
       "      <td>162.0</td>\n",
       "      <td>2.5</td>\n",
       "      <td>1040.0</td>\n",
       "      <td>676.0</td>\n",
       "      <td>28</td>\n",
       "      <td>79.986111</td>\n",
       "    </tr>\n",
       "    <tr>\n",
       "      <th>1</th>\n",
       "      <td>540.0</td>\n",
       "      <td>0.0</td>\n",
       "      <td>0.0</td>\n",
       "      <td>162.0</td>\n",
       "      <td>2.5</td>\n",
       "      <td>1055.0</td>\n",
       "      <td>676.0</td>\n",
       "      <td>28</td>\n",
       "      <td>61.887366</td>\n",
       "    </tr>\n",
       "    <tr>\n",
       "      <th>2</th>\n",
       "      <td>332.5</td>\n",
       "      <td>142.5</td>\n",
       "      <td>0.0</td>\n",
       "      <td>228.0</td>\n",
       "      <td>0.0</td>\n",
       "      <td>932.0</td>\n",
       "      <td>594.0</td>\n",
       "      <td>270</td>\n",
       "      <td>40.269535</td>\n",
       "    </tr>\n",
       "    <tr>\n",
       "      <th>3</th>\n",
       "      <td>332.5</td>\n",
       "      <td>142.5</td>\n",
       "      <td>0.0</td>\n",
       "      <td>228.0</td>\n",
       "      <td>0.0</td>\n",
       "      <td>932.0</td>\n",
       "      <td>594.0</td>\n",
       "      <td>365</td>\n",
       "      <td>41.052780</td>\n",
       "    </tr>\n",
       "    <tr>\n",
       "      <th>4</th>\n",
       "      <td>198.6</td>\n",
       "      <td>132.4</td>\n",
       "      <td>0.0</td>\n",
       "      <td>192.0</td>\n",
       "      <td>0.0</td>\n",
       "      <td>978.4</td>\n",
       "      <td>825.5</td>\n",
       "      <td>360</td>\n",
       "      <td>44.296075</td>\n",
       "    </tr>\n",
       "  </tbody>\n",
       "</table>\n",
       "</div>"
      ],
      "text/plain": [
       "   Cement  BF_slag  Fly_ash  Water  Super_plasticizer  Coarse_aggregate  \\\n",
       "0   540.0      0.0      0.0  162.0                2.5            1040.0   \n",
       "1   540.0      0.0      0.0  162.0                2.5            1055.0   \n",
       "2   332.5    142.5      0.0  228.0                0.0             932.0   \n",
       "3   332.5    142.5      0.0  228.0                0.0             932.0   \n",
       "4   198.6    132.4      0.0  192.0                0.0             978.4   \n",
       "\n",
       "   Fine_aggregate  Age   Comp_str  \n",
       "0           676.0   28  79.986111  \n",
       "1           676.0   28  61.887366  \n",
       "2           594.0  270  40.269535  \n",
       "3           594.0  365  41.052780  \n",
       "4           825.5  360  44.296075  "
      ]
     },
     "execution_count": 5,
     "metadata": {},
     "output_type": "execute_result"
    }
   ],
   "source": [
    "concrete = pd.read_excel('../../../data/Concrete_Data.xlsx')\n",
    "concrete.head()"
   ]
  },
  {
   "cell_type": "code",
   "execution_count": 6,
   "metadata": {},
   "outputs": [
    {
     "data": {
      "text/plain": [
       "(1030, 9)"
      ]
     },
     "execution_count": 6,
     "metadata": {},
     "output_type": "execute_result"
    }
   ],
   "source": [
    "concrete.shape"
   ]
  },
  {
   "cell_type": "code",
   "execution_count": 7,
   "metadata": {},
   "outputs": [],
   "source": [
    "train_inputs = concrete.drop(\"Comp_str\", axis = 1).values\n",
    "train_targets = concrete[\"Comp_str\"].values"
   ]
  },
  {
   "cell_type": "markdown",
   "metadata": {},
   "source": [
    "## Data Scaling "
   ]
  },
  {
   "cell_type": "code",
   "execution_count": 8,
   "metadata": {},
   "outputs": [],
   "source": [
    "train_inputs =  preprocessing.scale(train_inputs)"
   ]
  },
  {
   "cell_type": "code",
   "execution_count": 9,
   "metadata": {},
   "outputs": [
    {
     "name": "stdout",
     "output_type": "stream",
     "text": [
      "(1030, 8)\n",
      "(1030,)\n"
     ]
    }
   ],
   "source": [
    "print(train_inputs.shape)\n",
    "print(train_targets.shape)"
   ]
  },
  {
   "cell_type": "code",
   "execution_count": 10,
   "metadata": {},
   "outputs": [],
   "source": [
    "n_cols = train_inputs.shape[1]\n",
    "input_shape = (n_cols, )\n",
    "\n",
    "# Creates a model given an activation and learning rate\n",
    "def create_model(learning_rate=0.01, activation='relu'):\n",
    "  \n",
    "    # Create an Adam optimizer with the given learning rate\n",
    "    opt = Adam(lr=learning_rate)\n",
    "  \n",
    "    # Create your binary classification model  \n",
    "    model = Sequential()\n",
    "    model.add(Dense(128, activation = activation,\n",
    "                         input_shape = input_shape,\n",
    "                         activity_regularizer=regularizers.l2(1e-5)))\n",
    "    model.add(Dropout(0.50))\n",
    "    model.add(Dense(128, activation = activation, \n",
    "                         activity_regularizer=regularizers.l2(1e-5)))\n",
    "    model.add(Dropout(0.50))\n",
    "    model.add(Dense(1, activation = activation))\n",
    "\n",
    "# Compile the model\n",
    "    model.compile(optimizer = opt,\n",
    "                  loss = \"mean_absolute_error\",\n",
    "                  metrics=['mse', \"mape\"])\n",
    "    return model"
   ]
  },
  {
   "cell_type": "code",
   "execution_count": 11,
   "metadata": {
    "scrolled": true
   },
   "outputs": [
    {
     "name": "stderr",
     "output_type": "stream",
     "text": [
      "2022-02-19 10:18:42.062387: I tensorflow/core/platform/cpu_feature_guard.cc:151] This TensorFlow binary is optimized with oneAPI Deep Neural Network Library (oneDNN) to use the following CPU instructions in performance-critical operations:  AVX2 FMA\n",
      "To enable them in other operations, rebuild TensorFlow with the appropriate compiler flags.\n",
      "2022-02-19 10:18:42.063036: I tensorflow/stream_executor/cuda/cuda_gpu_executor.cc:936] successful NUMA node read from SysFS had negative value (-1), but there must be at least one NUMA node, so returning NUMA node zero\n",
      "2022-02-19 10:18:42.063215: I tensorflow/stream_executor/cuda/cuda_gpu_executor.cc:936] successful NUMA node read from SysFS had negative value (-1), but there must be at least one NUMA node, so returning NUMA node zero\n",
      "2022-02-19 10:18:42.063330: I tensorflow/stream_executor/cuda/cuda_gpu_executor.cc:936] successful NUMA node read from SysFS had negative value (-1), but there must be at least one NUMA node, so returning NUMA node zero\n",
      "2022-02-19 10:18:42.452604: I tensorflow/stream_executor/cuda/cuda_gpu_executor.cc:936] successful NUMA node read from SysFS had negative value (-1), but there must be at least one NUMA node, so returning NUMA node zero\n",
      "2022-02-19 10:18:42.452776: I tensorflow/stream_executor/cuda/cuda_gpu_executor.cc:936] successful NUMA node read from SysFS had negative value (-1), but there must be at least one NUMA node, so returning NUMA node zero\n",
      "2022-02-19 10:18:42.452899: I tensorflow/stream_executor/cuda/cuda_gpu_executor.cc:936] successful NUMA node read from SysFS had negative value (-1), but there must be at least one NUMA node, so returning NUMA node zero\n",
      "2022-02-19 10:18:42.453001: I tensorflow/core/common_runtime/gpu/gpu_device.cc:1525] Created device /job:localhost/replica:0/task:0/device:GPU:0 with 10976 MB memory:  -> device: 0, name: NVIDIA TITAN Xp, pci bus id: 0000:01:00.0, compute capability: 6.1\n"
     ]
    },
    {
     "name": "stdout",
     "output_type": "stream",
     "text": [
      "WARNING:tensorflow:5 out of the last 13 calls to <function Model.make_test_function.<locals>.test_function at 0x7f29686d69d0> triggered tf.function retracing. Tracing is expensive and the excessive number of tracings could be due to (1) creating @tf.function repeatedly in a loop, (2) passing tensors with different shapes, (3) passing Python objects instead of tensors. For (1), please define your @tf.function outside of the loop. For (2), @tf.function has experimental_relax_shapes=True option that relaxes argument shapes that can avoid unnecessary retracing. For (3), please refer to https://www.tensorflow.org/guide/function#controlling_retracing and https://www.tensorflow.org/api_docs/python/tf/function for  more details.\n",
      "WARNING:tensorflow:5 out of the last 11 calls to <function Model.make_test_function.<locals>.test_function at 0x7f2968207ca0> triggered tf.function retracing. Tracing is expensive and the excessive number of tracings could be due to (1) creating @tf.function repeatedly in a loop, (2) passing tensors with different shapes, (3) passing Python objects instead of tensors. For (1), please define your @tf.function outside of the loop. For (2), @tf.function has experimental_relax_shapes=True option that relaxes argument shapes that can avoid unnecessary retracing. For (3), please refer to https://www.tensorflow.org/guide/function#controlling_retracing and https://www.tensorflow.org/api_docs/python/tf/function for  more details.\n"
     ]
    }
   ],
   "source": [
    "# Create a Classifier\n",
    "model = KerasRegressor(build_fn = create_model,\n",
    "                       verbose = 0)\n",
    "\n",
    "# Define the parameters to try out\n",
    "params = {'activation': [\"relu\", \"tanh\"],\n",
    "          'batch_size': [16, 32, 64], \n",
    "          'epochs': [50, 100],\n",
    "          'learning_rate': [0.01, 0.001, 0.0001]}\n",
    "\n",
    "# Create a randomize search cv object passing in the parameters to try\n",
    "random_search = RandomizedSearchCV(model,\n",
    "                                   param_distributions = params,\n",
    "                                   cv = KFold(10))\n",
    "\n",
    "random_search_results = random_search.fit(train_inputs, train_targets)"
   ]
  },
  {
   "cell_type": "markdown",
   "metadata": {},
   "source": [
    "## Best parameters"
   ]
  },
  {
   "cell_type": "code",
   "execution_count": 12,
   "metadata": {},
   "outputs": [
    {
     "name": "stdout",
     "output_type": "stream",
     "text": [
      "Best Score:  -6.493083047866821 and Best Params:  {'learning_rate': 0.01, 'epochs': 100, 'batch_size': 32, 'activation': 'relu'}\n"
     ]
    }
   ],
   "source": [
    "# Print best score and parameters\n",
    "print(\"Best Score: \", random_search_results.best_score_, \"and Best Params: \", random_search_results.best_params_)"
   ]
  },
  {
   "cell_type": "markdown",
   "metadata": {},
   "source": [
    "# Fitting model with best parameters"
   ]
  },
  {
   "cell_type": "code",
   "execution_count": 13,
   "metadata": {},
   "outputs": [],
   "source": [
    "n_cols = train_inputs.shape[1]\n",
    "input_shape = (n_cols, )\n",
    "\n",
    "# Creates a model given an activation and learning rate\n",
    "def create_model(learning_rate=0.001, activation='relu'):\n",
    "  \n",
    "    # Create an Adam optimizer with the given learning rate\n",
    "    opt = Adam(lr=learning_rate)\n",
    "  \n",
    "    # Create your binary classification model  \n",
    "    model = Sequential()\n",
    "    model.add(Dense(128, activation = activation,\n",
    "                         input_shape = input_shape,\n",
    "                         activity_regularizer=regularizers.l2(1e-5)))\n",
    "    model.add(Dropout(0.50))\n",
    "    model.add(Dense(128, activation = activation, \n",
    "                         activity_regularizer=regularizers.l2(1e-5)))\n",
    "    model.add(Dropout(0.50))\n",
    "    model.add(Dense(1, activation = activation))\n",
    "\n",
    "# Compile the model\n",
    "    model.compile(optimizer = opt,\n",
    "                  loss = \"mean_absolute_error\",\n",
    "                  metrics= ['mse', \"mape\"])\n",
    "    return model"
   ]
  },
  {
   "cell_type": "code",
   "execution_count": 14,
   "metadata": {},
   "outputs": [
    {
     "name": "stdout",
     "output_type": "stream",
     "text": [
      "The mean accuracy was: -6.3261659145355225\n",
      "With a standard deviation of: 1.809826443693863\n"
     ]
    }
   ],
   "source": [
    "# Create a KerasRegressor\n",
    "model = KerasRegressor(build_fn = create_model,\n",
    "                       epochs = 100, \n",
    "                       batch_size = 16,\n",
    "                       verbose = 0)\n",
    "\n",
    "# Calculate the accuracy score for each fold\n",
    "kfolds = cross_val_score(model,\n",
    "                         train_inputs,\n",
    "                         train_targets,\n",
    "                         cv = 10)\n",
    "\n",
    "# Print the mean accuracy\n",
    "print('The mean accuracy was:', kfolds.mean())\n",
    "\n",
    "# Print the accuracy standard deviation\n",
    "print('With a standard deviation of:', kfolds.std())"
   ]
  },
  {
   "cell_type": "markdown",
   "metadata": {},
   "source": [
    "## 2nd - Titanic data"
   ]
  },
  {
   "cell_type": "code",
   "execution_count": 15,
   "metadata": {
    "_cell_guid": "79c7e3d0-c299-4dcb-8224-4455121ee9b0",
    "_uuid": "d629ff2d2480ee46fbb7e2d37f6b5fab8052498a"
   },
   "outputs": [
    {
     "name": "stdout",
     "output_type": "stream",
     "text": [
      "<class 'pandas.core.frame.DataFrame'>\n",
      "RangeIndex: 891 entries, 0 to 890\n",
      "Data columns (total 12 columns):\n",
      " #   Column       Non-Null Count  Dtype  \n",
      "---  ------       --------------  -----  \n",
      " 0   PassengerId  891 non-null    int64  \n",
      " 1   Survived     891 non-null    int64  \n",
      " 2   Pclass       891 non-null    int64  \n",
      " 3   Name         891 non-null    object \n",
      " 4   Sex          891 non-null    object \n",
      " 5   Age          714 non-null    float64\n",
      " 6   SibSp        891 non-null    int64  \n",
      " 7   Parch        891 non-null    int64  \n",
      " 8   Ticket       891 non-null    object \n",
      " 9   Fare         891 non-null    float64\n",
      " 10  Cabin        204 non-null    object \n",
      " 11  Embarked     889 non-null    object \n",
      "dtypes: float64(2), int64(5), object(5)\n",
      "memory usage: 83.7+ KB\n",
      "__________________________________________________\n",
      "<class 'pandas.core.frame.DataFrame'>\n",
      "RangeIndex: 418 entries, 0 to 417\n",
      "Data columns (total 11 columns):\n",
      " #   Column       Non-Null Count  Dtype  \n",
      "---  ------       --------------  -----  \n",
      " 0   PassengerId  418 non-null    int64  \n",
      " 1   Pclass       418 non-null    int64  \n",
      " 2   Name         418 non-null    object \n",
      " 3   Sex          418 non-null    object \n",
      " 4   Age          332 non-null    float64\n",
      " 5   SibSp        418 non-null    int64  \n",
      " 6   Parch        418 non-null    int64  \n",
      " 7   Ticket       418 non-null    object \n",
      " 8   Fare         417 non-null    float64\n",
      " 9   Cabin        91 non-null     object \n",
      " 10  Embarked     418 non-null    object \n",
      "dtypes: float64(2), int64(4), object(5)\n",
      "memory usage: 36.0+ KB\n"
     ]
    }
   ],
   "source": [
    "train_data = pd.read_csv(\"../../../data/kaggle_titanic_train.csv\")\n",
    "test_data = pd.read_csv(\"../../../data/kaggle_titanic_test.csv\")\n",
    "\n",
    "train_data.info()\n",
    "print('_'*50)\n",
    "test_data.info()"
   ]
  },
  {
   "cell_type": "code",
   "execution_count": 16,
   "metadata": {
    "_uuid": "23de2def20bde7868eb192a2c5edb9769bed11d9"
   },
   "outputs": [
    {
     "data": {
      "text/html": [
       "<div>\n",
       "<style scoped>\n",
       "    .dataframe tbody tr th:only-of-type {\n",
       "        vertical-align: middle;\n",
       "    }\n",
       "\n",
       "    .dataframe tbody tr th {\n",
       "        vertical-align: top;\n",
       "    }\n",
       "\n",
       "    .dataframe thead th {\n",
       "        text-align: right;\n",
       "    }\n",
       "</style>\n",
       "<table border=\"1\" class=\"dataframe\">\n",
       "  <thead>\n",
       "    <tr style=\"text-align: right;\">\n",
       "      <th></th>\n",
       "      <th>PassengerId</th>\n",
       "      <th>Survived</th>\n",
       "      <th>Pclass</th>\n",
       "      <th>Name</th>\n",
       "      <th>Sex</th>\n",
       "      <th>Age</th>\n",
       "      <th>SibSp</th>\n",
       "      <th>Parch</th>\n",
       "      <th>Ticket</th>\n",
       "      <th>Fare</th>\n",
       "      <th>Cabin</th>\n",
       "      <th>Embarked</th>\n",
       "    </tr>\n",
       "  </thead>\n",
       "  <tbody>\n",
       "    <tr>\n",
       "      <th>0</th>\n",
       "      <td>1</td>\n",
       "      <td>0</td>\n",
       "      <td>3</td>\n",
       "      <td>Braund, Mr. Owen Harris</td>\n",
       "      <td>male</td>\n",
       "      <td>22.0</td>\n",
       "      <td>1</td>\n",
       "      <td>0</td>\n",
       "      <td>A/5 21171</td>\n",
       "      <td>7.2500</td>\n",
       "      <td>NaN</td>\n",
       "      <td>S</td>\n",
       "    </tr>\n",
       "    <tr>\n",
       "      <th>1</th>\n",
       "      <td>2</td>\n",
       "      <td>1</td>\n",
       "      <td>1</td>\n",
       "      <td>Cumings, Mrs. John Bradley (Florence Briggs Th...</td>\n",
       "      <td>female</td>\n",
       "      <td>38.0</td>\n",
       "      <td>1</td>\n",
       "      <td>0</td>\n",
       "      <td>PC 17599</td>\n",
       "      <td>71.2833</td>\n",
       "      <td>C85</td>\n",
       "      <td>C</td>\n",
       "    </tr>\n",
       "    <tr>\n",
       "      <th>2</th>\n",
       "      <td>3</td>\n",
       "      <td>1</td>\n",
       "      <td>3</td>\n",
       "      <td>Heikkinen, Miss. Laina</td>\n",
       "      <td>female</td>\n",
       "      <td>26.0</td>\n",
       "      <td>0</td>\n",
       "      <td>0</td>\n",
       "      <td>STON/O2. 3101282</td>\n",
       "      <td>7.9250</td>\n",
       "      <td>NaN</td>\n",
       "      <td>S</td>\n",
       "    </tr>\n",
       "    <tr>\n",
       "      <th>3</th>\n",
       "      <td>4</td>\n",
       "      <td>1</td>\n",
       "      <td>1</td>\n",
       "      <td>Futrelle, Mrs. Jacques Heath (Lily May Peel)</td>\n",
       "      <td>female</td>\n",
       "      <td>35.0</td>\n",
       "      <td>1</td>\n",
       "      <td>0</td>\n",
       "      <td>113803</td>\n",
       "      <td>53.1000</td>\n",
       "      <td>C123</td>\n",
       "      <td>S</td>\n",
       "    </tr>\n",
       "    <tr>\n",
       "      <th>4</th>\n",
       "      <td>5</td>\n",
       "      <td>0</td>\n",
       "      <td>3</td>\n",
       "      <td>Allen, Mr. William Henry</td>\n",
       "      <td>male</td>\n",
       "      <td>35.0</td>\n",
       "      <td>0</td>\n",
       "      <td>0</td>\n",
       "      <td>373450</td>\n",
       "      <td>8.0500</td>\n",
       "      <td>NaN</td>\n",
       "      <td>S</td>\n",
       "    </tr>\n",
       "  </tbody>\n",
       "</table>\n",
       "</div>"
      ],
      "text/plain": [
       "   PassengerId  Survived  Pclass  \\\n",
       "0            1         0       3   \n",
       "1            2         1       1   \n",
       "2            3         1       3   \n",
       "3            4         1       1   \n",
       "4            5         0       3   \n",
       "\n",
       "                                                Name     Sex   Age  SibSp  \\\n",
       "0                            Braund, Mr. Owen Harris    male  22.0      1   \n",
       "1  Cumings, Mrs. John Bradley (Florence Briggs Th...  female  38.0      1   \n",
       "2                             Heikkinen, Miss. Laina  female  26.0      0   \n",
       "3       Futrelle, Mrs. Jacques Heath (Lily May Peel)  female  35.0      1   \n",
       "4                           Allen, Mr. William Henry    male  35.0      0   \n",
       "\n",
       "   Parch            Ticket     Fare Cabin Embarked  \n",
       "0      0         A/5 21171   7.2500   NaN        S  \n",
       "1      0          PC 17599  71.2833   C85        C  \n",
       "2      0  STON/O2. 3101282   7.9250   NaN        S  \n",
       "3      0            113803  53.1000  C123        S  \n",
       "4      0            373450   8.0500   NaN        S  "
      ]
     },
     "execution_count": 16,
     "metadata": {},
     "output_type": "execute_result"
    }
   ],
   "source": [
    "train_data.head()"
   ]
  },
  {
   "cell_type": "code",
   "execution_count": 17,
   "metadata": {
    "_uuid": "6aa1d7bbd96a25ce685a1d8fe7fa9451e7b069d4"
   },
   "outputs": [
    {
     "data": {
      "text/html": [
       "<div>\n",
       "<style scoped>\n",
       "    .dataframe tbody tr th:only-of-type {\n",
       "        vertical-align: middle;\n",
       "    }\n",
       "\n",
       "    .dataframe tbody tr th {\n",
       "        vertical-align: top;\n",
       "    }\n",
       "\n",
       "    .dataframe thead th {\n",
       "        text-align: right;\n",
       "    }\n",
       "</style>\n",
       "<table border=\"1\" class=\"dataframe\">\n",
       "  <thead>\n",
       "    <tr style=\"text-align: right;\">\n",
       "      <th></th>\n",
       "      <th>PassengerId</th>\n",
       "      <th>Survived</th>\n",
       "      <th>Pclass</th>\n",
       "      <th>Age</th>\n",
       "      <th>SibSp</th>\n",
       "      <th>Parch</th>\n",
       "      <th>Fare</th>\n",
       "    </tr>\n",
       "  </thead>\n",
       "  <tbody>\n",
       "    <tr>\n",
       "      <th>count</th>\n",
       "      <td>891.000000</td>\n",
       "      <td>891.000000</td>\n",
       "      <td>891.000000</td>\n",
       "      <td>714.000000</td>\n",
       "      <td>891.000000</td>\n",
       "      <td>891.000000</td>\n",
       "      <td>891.000000</td>\n",
       "    </tr>\n",
       "    <tr>\n",
       "      <th>mean</th>\n",
       "      <td>446.000000</td>\n",
       "      <td>0.383838</td>\n",
       "      <td>2.308642</td>\n",
       "      <td>29.699118</td>\n",
       "      <td>0.523008</td>\n",
       "      <td>0.381594</td>\n",
       "      <td>32.204208</td>\n",
       "    </tr>\n",
       "    <tr>\n",
       "      <th>std</th>\n",
       "      <td>257.353842</td>\n",
       "      <td>0.486592</td>\n",
       "      <td>0.836071</td>\n",
       "      <td>14.526497</td>\n",
       "      <td>1.102743</td>\n",
       "      <td>0.806057</td>\n",
       "      <td>49.693429</td>\n",
       "    </tr>\n",
       "    <tr>\n",
       "      <th>min</th>\n",
       "      <td>1.000000</td>\n",
       "      <td>0.000000</td>\n",
       "      <td>1.000000</td>\n",
       "      <td>0.420000</td>\n",
       "      <td>0.000000</td>\n",
       "      <td>0.000000</td>\n",
       "      <td>0.000000</td>\n",
       "    </tr>\n",
       "    <tr>\n",
       "      <th>25%</th>\n",
       "      <td>223.500000</td>\n",
       "      <td>0.000000</td>\n",
       "      <td>2.000000</td>\n",
       "      <td>20.125000</td>\n",
       "      <td>0.000000</td>\n",
       "      <td>0.000000</td>\n",
       "      <td>7.910400</td>\n",
       "    </tr>\n",
       "    <tr>\n",
       "      <th>50%</th>\n",
       "      <td>446.000000</td>\n",
       "      <td>0.000000</td>\n",
       "      <td>3.000000</td>\n",
       "      <td>28.000000</td>\n",
       "      <td>0.000000</td>\n",
       "      <td>0.000000</td>\n",
       "      <td>14.454200</td>\n",
       "    </tr>\n",
       "    <tr>\n",
       "      <th>75%</th>\n",
       "      <td>668.500000</td>\n",
       "      <td>1.000000</td>\n",
       "      <td>3.000000</td>\n",
       "      <td>38.000000</td>\n",
       "      <td>1.000000</td>\n",
       "      <td>0.000000</td>\n",
       "      <td>31.000000</td>\n",
       "    </tr>\n",
       "    <tr>\n",
       "      <th>max</th>\n",
       "      <td>891.000000</td>\n",
       "      <td>1.000000</td>\n",
       "      <td>3.000000</td>\n",
       "      <td>80.000000</td>\n",
       "      <td>8.000000</td>\n",
       "      <td>6.000000</td>\n",
       "      <td>512.329200</td>\n",
       "    </tr>\n",
       "  </tbody>\n",
       "</table>\n",
       "</div>"
      ],
      "text/plain": [
       "       PassengerId    Survived      Pclass         Age       SibSp  \\\n",
       "count   891.000000  891.000000  891.000000  714.000000  891.000000   \n",
       "mean    446.000000    0.383838    2.308642   29.699118    0.523008   \n",
       "std     257.353842    0.486592    0.836071   14.526497    1.102743   \n",
       "min       1.000000    0.000000    1.000000    0.420000    0.000000   \n",
       "25%     223.500000    0.000000    2.000000   20.125000    0.000000   \n",
       "50%     446.000000    0.000000    3.000000   28.000000    0.000000   \n",
       "75%     668.500000    1.000000    3.000000   38.000000    1.000000   \n",
       "max     891.000000    1.000000    3.000000   80.000000    8.000000   \n",
       "\n",
       "            Parch        Fare  \n",
       "count  891.000000  891.000000  \n",
       "mean     0.381594   32.204208  \n",
       "std      0.806057   49.693429  \n",
       "min      0.000000    0.000000  \n",
       "25%      0.000000    7.910400  \n",
       "50%      0.000000   14.454200  \n",
       "75%      0.000000   31.000000  \n",
       "max      6.000000  512.329200  "
      ]
     },
     "execution_count": 17,
     "metadata": {},
     "output_type": "execute_result"
    }
   ],
   "source": [
    "train_data.describe()"
   ]
  },
  {
   "cell_type": "markdown",
   "metadata": {
    "_uuid": "93aa50436d06d1fdece8970d469b0b329ef45d8c"
   },
   "source": [
    "#### Drop the columns if the missing values are more than 20% of the data. Drop missing rows otherwise"
   ]
  },
  {
   "cell_type": "code",
   "execution_count": 18,
   "metadata": {
    "_uuid": "9b18e532419264e9ca433a984e3974a0065ba3a5"
   },
   "outputs": [],
   "source": [
    "for col in train_data.columns:\n",
    "    if len(train_data[col].dropna()) <= (0.7 * len(train_data)):\n",
    "        train_data.drop(columns=[col], inplace=True)\n",
    "    else:\n",
    "        train_data.dropna(axis=0, subset=[col],inplace=True)\n",
    "\n",
    "for col in test_data.columns:\n",
    "    if len(test_data[col].dropna()) <= (0.7 * len(test_data)):\n",
    "        test_data.drop(columns=[col], inplace=True)\n",
    "    else:\n",
    "        test_data[col].fillna(value=test_data[col].mode()[0] ,inplace=True)"
   ]
  },
  {
   "cell_type": "code",
   "execution_count": 19,
   "metadata": {
    "_uuid": "0c09d970d277431fa78e24ec009ea51bdc64fa41"
   },
   "outputs": [
    {
     "name": "stdout",
     "output_type": "stream",
     "text": [
      "<class 'pandas.core.frame.DataFrame'>\n",
      "Int64Index: 712 entries, 0 to 890\n",
      "Data columns (total 11 columns):\n",
      " #   Column       Non-Null Count  Dtype  \n",
      "---  ------       --------------  -----  \n",
      " 0   PassengerId  712 non-null    int64  \n",
      " 1   Survived     712 non-null    int64  \n",
      " 2   Pclass       712 non-null    int64  \n",
      " 3   Name         712 non-null    object \n",
      " 4   Sex          712 non-null    object \n",
      " 5   Age          712 non-null    float64\n",
      " 6   SibSp        712 non-null    int64  \n",
      " 7   Parch        712 non-null    int64  \n",
      " 8   Ticket       712 non-null    object \n",
      " 9   Fare         712 non-null    float64\n",
      " 10  Embarked     712 non-null    object \n",
      "dtypes: float64(2), int64(5), object(4)\n",
      "memory usage: 66.8+ KB\n",
      "__________________________________________________\n",
      "<class 'pandas.core.frame.DataFrame'>\n",
      "RangeIndex: 418 entries, 0 to 417\n",
      "Data columns (total 10 columns):\n",
      " #   Column       Non-Null Count  Dtype  \n",
      "---  ------       --------------  -----  \n",
      " 0   PassengerId  418 non-null    int64  \n",
      " 1   Pclass       418 non-null    int64  \n",
      " 2   Name         418 non-null    object \n",
      " 3   Sex          418 non-null    object \n",
      " 4   Age          418 non-null    float64\n",
      " 5   SibSp        418 non-null    int64  \n",
      " 6   Parch        418 non-null    int64  \n",
      " 7   Ticket       418 non-null    object \n",
      " 8   Fare         418 non-null    float64\n",
      " 9   Embarked     418 non-null    object \n",
      "dtypes: float64(2), int64(4), object(4)\n",
      "memory usage: 32.8+ KB\n"
     ]
    }
   ],
   "source": [
    "train_data.info()\n",
    "print('_'*50)\n",
    "test_data.info()"
   ]
  },
  {
   "cell_type": "markdown",
   "metadata": {
    "_uuid": "6786728f751be8769471c80f5daadd20839ed7ff"
   },
   "source": [
    "No need to convert the data types from categorical to numerical because we want tensorflow to handle this kind of data"
   ]
  },
  {
   "cell_type": "markdown",
   "metadata": {
    "_uuid": "af22d7039852eebe20955e0de24bc949093dbcfb"
   },
   "source": [
    "#### Define Feature columns for tensorflow  \n",
    "Examples of each column type"
   ]
  },
  {
   "cell_type": "code",
   "execution_count": 20,
   "metadata": {
    "_uuid": "f4994ae2c85b8c73ec22b312a12e15e369572280"
   },
   "outputs": [
    {
     "data": {
      "text/plain": [
       "<AxesSubplot:>"
      ]
     },
     "execution_count": 20,
     "metadata": {},
     "output_type": "execute_result"
    },
    {
     "data": {
      "image/png": "[encoded data removed]",
      "text/plain": [
       "<Figure size 720x576 with 2 Axes>"
      ]
     },
     "metadata": {
      "needs_background": "light"
     },
     "output_type": "display_data"
    }
   ],
   "source": [
    "# Just to see the correlation\n",
    "plt.figure(figsize=(10,8))\n",
    "sns.heatmap(train_data.corr(method='pearson'), annot=True, cmap='YlGnBu', fmt='.2f', linewidths=2)"
   ]
  },
  {
   "cell_type": "code",
   "execution_count": 21,
   "metadata": {
    "_uuid": "652d3d496e465bf60d5aef33f79e6f180c082dc7"
   },
   "outputs": [],
   "source": [
    "feature_columns = []\n",
    "\n",
    "# numeric cols\n",
    "for header in ['Age', 'Fare']:\n",
    "    feature_columns.append(tf.feature_column.numeric_column(header))\n",
    "\n",
    "# bucketized cols\n",
    "age = tf.feature_column.numeric_column(\"Age\")\n",
    "age_buckets = tf.feature_column.bucketized_column(age, boundaries=[5, 10, 20, 30, 40, 50, 60, 70, 80])\n",
    "feature_columns.append(age_buckets)\n",
    "\n",
    "# indicator cols\n",
    "categorical_cols = [\"Sex\", \"Embarked\", \"Pclass\", \"SibSp\", \"Parch\"]\n",
    "for col in categorical_cols:\n",
    "    train_data[col] = train_data[col].apply(str)\n",
    "    test_data[col] = test_data[col].apply(str)\n",
    "    cat_column_with_vocab = tf.feature_column.categorical_column_with_vocabulary_list(col, list(train_data[col].value_counts().index.values))\n",
    "    one_hot = tf.feature_column.indicator_column(cat_column_with_vocab)\n",
    "    feature_columns.append(one_hot)\n",
    "\n",
    "\n",
    "# embedding cols\n",
    "ticket = tf.feature_column.categorical_column_with_hash_bucket(\"Ticket\", hash_bucket_size=1000)\n",
    "ticket_embedding = tf.feature_column.embedding_column(ticket, dimension=8)\n",
    "feature_columns.append(ticket_embedding)\n",
    "\n",
    "# crossed cols\n",
    "p_class = tf.feature_column.categorical_column_with_vocabulary_list(\"Pclass\", list(train_data[\"Pclass\"].value_counts().index.values))\n",
    "parch = tf.feature_column.categorical_column_with_vocabulary_list(\"Parch\", list(train_data[\"Parch\"].value_counts().index.values))\n",
    "pclass_parch_crossed = tf.feature_column.crossed_column([p_class, parch], hash_bucket_size=1000)\n",
    "pclass_parch_crossed = tf.feature_column.indicator_column(pclass_parch_crossed)\n",
    "feature_columns.append(pclass_parch_crossed)"
   ]
  },
  {
   "cell_type": "code",
   "execution_count": 22,
   "metadata": {
    "_uuid": "869e25aea4077c3327535181afa45dd68e91a21e"
   },
   "outputs": [],
   "source": [
    "# A utility method to create a tf.data dataset from a Pandas Dataframe\n",
    "def df_to_dataset(dataframe, testing=False, batch_size=32):\n",
    "    dataframe = dataframe.copy()\n",
    "    if not testing:\n",
    "        labels = dataframe.pop('Survived')\n",
    "        ds = tf.data.Dataset.from_tensor_slices((dict(dataframe), labels))\n",
    "        ds = ds.shuffle(buffer_size=len(dataframe))\n",
    "    else:\n",
    "        ds = tf.data.Dataset.from_tensor_slices(dict(dataframe))\n",
    "    ds = ds.batch(batch_size)\n",
    "    ds = ds.prefetch(buffer_size=tf.data.experimental.AUTOTUNE)\n",
    "    return ds"
   ]
  },
  {
   "cell_type": "code",
   "execution_count": 23,
   "metadata": {
    "_uuid": "81002699b6013bc68b4ec8b6f236d2ac372df3f0"
   },
   "outputs": [],
   "source": [
    "train_data, val_data = train_test_split(train_data, test_size=0.2)"
   ]
  },
  {
   "cell_type": "code",
   "execution_count": 24,
   "metadata": {},
   "outputs": [
    {
     "name": "stdout",
     "output_type": "stream",
     "text": [
      "(569, 11)\n",
      "(143, 11)\n",
      "(418, 10)\n"
     ]
    }
   ],
   "source": [
    "print(train_data.shape)\n",
    "print(val_data.shape)\n",
    "print(test_data.shape)"
   ]
  },
  {
   "cell_type": "code",
   "execution_count": 25,
   "metadata": {
    "_uuid": "e1daff759cc6bd037835cda13c7ad1845257f77d"
   },
   "outputs": [],
   "source": [
    "batch_size = 32\n",
    "train_ds = df_to_dataset(train_data, batch_size=batch_size)\n",
    "val_ds = df_to_dataset(val_data, batch_size=batch_size)\n",
    "test_ds = df_to_dataset(test_data, testing=True, batch_size=batch_size)"
   ]
  },
  {
   "cell_type": "markdown",
   "metadata": {
    "_uuid": "bf4ed1dccc9630b9f75050016c4d5d4d450925c5"
   },
   "source": [
    "### Setup Hyperparameter tuning"
   ]
  },
  {
   "cell_type": "code",
   "execution_count": 26,
   "metadata": {
    "_uuid": "f72637b62bcdaaaab92fa467bbdedf3ea0f69f7c"
   },
   "outputs": [],
   "source": [
    "num_units_list = [128, 256]\n",
    "dropout_rate_list = [0.2, 0.5] \n",
    "optimizer_list = ['adam', 'sgd'] "
   ]
  },
  {
   "cell_type": "code",
   "execution_count": 27,
   "metadata": {
    "_uuid": "365d776a86a163d36eba9eeedf318be60a46ad5d"
   },
   "outputs": [],
   "source": [
    "# Utility method to create summary for tensorboard\n",
    "def create_experiment_summary(num_units_list, dropout_rate_list, optimizer_list):\n",
    "    num_units_list_val = struct_pb2.ListValue()\n",
    "    num_units_list_val.extend(num_units_list)\n",
    "    dropout_rate_list_val = struct_pb2.ListValue()\n",
    "    dropout_rate_list_val.extend(dropout_rate_list)\n",
    "    optimizer_list_val = struct_pb2.ListValue()\n",
    "    optimizer_list_val.extend(optimizer_list)\n",
    "    return hparams_summary.experiment_pb(hparam_infos=[api_pb2.HParamInfo(name='num_units',                              # The parameters being tracked\n",
    "                                                                          display_name='Number of units',\n",
    "                                                                          type=api_pb2.DATA_TYPE_FLOAT64,\n",
    "                                                                          domain_discrete=num_units_list_val),\n",
    "                                                       api_pb2.HParamInfo(name='dropout_rate',\n",
    "                                                                          display_name='Dropout rate',\n",
    "                                                                          type=api_pb2.DATA_TYPE_FLOAT64,\n",
    "                                                                          domain_discrete=dropout_rate_list_val),\n",
    "                                                       api_pb2.HParamInfo(name='optimizer',\n",
    "                                                                          display_name='Optimizer',\n",
    "                                                                          type=api_pb2.DATA_TYPE_STRING,\n",
    "                                                                          domain_discrete=optimizer_list_val)], \n",
    "                                         metric_infos=[api_pb2.MetricInfo(name=api_pb2.MetricName(tag='accuracy'),        # The metrics being tracked\n",
    "                                                                          display_name='Accuracy'),\n",
    "                                                      ])\n",
    "\n",
    "exp_summary = create_experiment_summary(num_units_list, dropout_rate_list, optimizer_list)\n",
    "root_logdir_writer = tf.summary.create_file_writer(\"logs/hparam_tuning\")\n",
    "\n",
    "with root_logdir_writer.as_default():\n",
    "    #tf.summary.import_event(tf.compat.v1.Event(summary=exp_summary).SerializeToString()) #https://github.com/tensorflow/tensorboard/pull/2110\n",
    "    tf.summary.experimental.write_raw_pb(tf.compat.v1.Event(summary=exp_summary).SerializeToString(), step=tf.compat.v1.Event(summary=exp_summary).step)\n",
    "\n",
    "    \n"
   ]
  },
  {
   "cell_type": "code",
   "execution_count": 28,
   "metadata": {
    "_uuid": "00c52b5e1da3208d7a718602f9783ba045f1742b"
   },
   "outputs": [],
   "source": [
    "# Model compiler\n",
    "def train_test_model(hparams):\n",
    "    tf.keras.backend.set_floatx('float64')\n",
    "    model = tf.keras.models.Sequential([tf.keras.layers.DenseFeatures(feature_columns),\n",
    "                                        tf.keras.layers.Dense(hparams['num_units'], activation='relu'),\n",
    "                                        tf.keras.layers.Dropout(hparams['dropout_rate']),\n",
    "                                        tf.keras.layers.Dense(hparams['num_units'], activation='relu'),\n",
    "                                        tf.keras.layers.Dense(1, activation='sigmoid')])\n",
    "    \n",
    "    model.compile(optimizer=hparams['optimizer'],\n",
    "                  loss='binary_crossentropy',\n",
    "                  metrics=['accuracy'])\n",
    "\n",
    "    model.fit(train_ds,\n",
    "              validation_data=val_ds,\n",
    "              epochs=50,\n",
    "              use_multiprocessing=True,\n",
    "              verbose=0)\n",
    "    \n",
    "    _, accuracy = model.evaluate(val_ds)\n",
    "    return model, accuracy"
   ]
  },
  {
   "cell_type": "code",
   "execution_count": 29,
   "metadata": {
    "_uuid": "ce40f4ef18a980e04f4647e25a97c39345fe3f64"
   },
   "outputs": [],
   "source": [
    "# Model runner\n",
    "def run(run_dir, hparams):\n",
    "    writer = tf.summary.create_file_writer(run_dir)\n",
    "    summary_start = hparams_summary.session_start_pb(hparams=hparams)\n",
    "    with writer.as_default():\n",
    "        model, accuracy = train_test_model(hparams)\n",
    "        summary_end = hparams_summary.session_end_pb(api_pb2.STATUS_SUCCESS)\n",
    "\n",
    "    tf.summary.scalar('accuracy', accuracy, step=1, description=\"The accuracy\")\n",
    "    #tf.summary.import_event(tf.compat.v1.Event(summary=summary_start).SerializeToString())\n",
    "    #tf.summary.import_event(tf.compat.v1.Event(summary=summary_end).SerializeToString())\n",
    "    tf.summary.experimental.write_raw_pb(tf.compat.v1.Event(summary=summary_start).SerializeToString(), step=tf.compat.v1.Event(summary=exp_summary).step)\n",
    "    tf.summary.experimental.write_raw_pb(tf.compat.v1.Event(summary=summary_end).SerializeToString(), step=tf.compat.v1.Event(summary=exp_summary).step)\n",
    "    return model, accuracy"
   ]
  },
  {
   "cell_type": "markdown",
   "metadata": {},
   "source": [
    "  Level | Level for Humans | Level Description                  \n",
    " -------|------------------|------------------------------------ \n",
    "  0     | DEBUG            | [Default] Print all messages       \n",
    "  1     | INFO             | Filter out INFO messages           \n",
    "  2     | WARNING          | Filter out INFO & WARNING messages \n",
    "  3     | ERROR            | Filter out all messages      "
   ]
  },
  {
   "cell_type": "code",
   "execution_count": 30,
   "metadata": {
    "_uuid": "28941b640efbd4b5dd7973f072f2d4dc20ae2a8c"
   },
   "outputs": [
    {
     "name": "stdout",
     "output_type": "stream",
     "text": [
      "--- Running training session 1\n",
      "{'num_units': 128, 'dropout_rate': 0.2, 'optimizer': 'adam'}\n",
      "5/5 [==============================] - 0s 3ms/step - loss: 0.9213 - accuracy: 0.7832\n",
      "0.7832167832167832\n",
      "--- Running training session 2\n",
      "{'num_units': 128, 'dropout_rate': 0.2, 'optimizer': 'sgd'}\n",
      "5/5 [==============================] - 0s 3ms/step - loss: 0.5248 - accuracy: 0.7552\n",
      "0.7552447552447552\n",
      "--- Running training session 3\n",
      "{'num_units': 128, 'dropout_rate': 0.5, 'optimizer': 'adam'}\n",
      "5/5 [==============================] - 0s 4ms/step - loss: 0.9234 - accuracy: 0.7273\n",
      "0.7272727272727273\n",
      "--- Running training session 4\n",
      "{'num_units': 128, 'dropout_rate': 0.5, 'optimizer': 'sgd'}\n",
      "5/5 [==============================] - 0s 4ms/step - loss: 0.5527 - accuracy: 0.6993\n",
      "0.6993006993006993\n",
      "--- Running training session 5\n",
      "{'num_units': 256, 'dropout_rate': 0.2, 'optimizer': 'adam'}\n",
      "5/5 [==============================] - 0s 3ms/step - loss: 1.1534 - accuracy: 0.7203\n",
      "0.7202797202797203\n",
      "--- Running training session 6\n",
      "{'num_units': 256, 'dropout_rate': 0.2, 'optimizer': 'sgd'}\n",
      "5/5 [==============================] - 0s 4ms/step - loss: 0.5247 - accuracy: 0.7273\n",
      "0.7272727272727273\n",
      "--- Running training session 7\n",
      "{'num_units': 256, 'dropout_rate': 0.5, 'optimizer': 'adam'}\n",
      "5/5 [==============================] - 0s 3ms/step - loss: 1.1827 - accuracy: 0.6993\n",
      "0.6993006993006993\n",
      "--- Running training session 8\n",
      "{'num_units': 256, 'dropout_rate': 0.5, 'optimizer': 'sgd'}\n",
      "5/5 [==============================] - 0s 3ms/step - loss: 0.5480 - accuracy: 0.7413\n",
      "0.7412587412587412\n"
     ]
    }
   ],
   "source": [
    "tf.get_logger().setLevel('ERROR')\n",
    "\n",
    "model_dict = {}\n",
    "session_num = 0\n",
    "for num_units in num_units_list:\n",
    "    for dropout_rate in dropout_rate_list:\n",
    "        for optimizer in optimizer_list:\n",
    "            hparams = {'num_units': num_units, 'dropout_rate': dropout_rate, 'optimizer': optimizer}\n",
    "            print(f'--- Running training session {session_num + 1}')\n",
    "            print(hparams)\n",
    "            run_name = f\"run-{session_num}\"\n",
    "            model, accuracy = run(\"logs/hparam_tuning/\" + run_name, hparams)\n",
    "            print(accuracy)\n",
    "            model_dict[accuracy] = model\n",
    "            session_num += 1"
   ]
  },
  {
   "cell_type": "code",
   "execution_count": 31,
   "metadata": {
    "_uuid": "91a3242fdeccecb9d49e00c2c0462bb81736165f"
   },
   "outputs": [],
   "source": [
    "best_model = model_dict[max(list(model_dict.keys()))]"
   ]
  },
  {
   "cell_type": "code",
   "execution_count": 32,
   "metadata": {
    "_uuid": "6bc6e36e0a4064ebd24c1565e1388e700020bfe2"
   },
   "outputs": [],
   "source": [
    "predictions = best_model.predict(test_ds)\n",
    "predictions = np.argmax(predictions, axis=1)"
   ]
  },
  {
   "cell_type": "code",
   "execution_count": 33,
   "metadata": {
    "_uuid": "861ce10c0b7becb306c1227f03ce236cf10fd780"
   },
   "outputs": [],
   "source": [
    "predictions_dataframe = test_data[[\"PassengerId\"]]\n",
    "predictions_dataframe[\"Survived\"] = predictions"
   ]
  },
  {
   "cell_type": "code",
   "execution_count": 34,
   "metadata": {
    "_uuid": "0986b2e992c217af9c3d9c45a1ced4502e963afe"
   },
   "outputs": [],
   "source": [
    "#predictions_dataframe.to_csv(\"../../../data/gender_submission.csv\",index=False)"
   ]
  },
  {
   "cell_type": "code",
   "execution_count": 35,
   "metadata": {
    "_uuid": "0f3149b86a86d81e8c7f1b71d5963f46b2632ea2"
   },
   "outputs": [],
   "source": [
    "#best_model.save('../../../data/best_model.h5')"
   ]
  }
 ],
 "metadata": {
  "kernelspec": {
   "display_name": "Python 3 (ipykernel)",
   "language": "python",
   "name": "python3"
  },
  "language_info": {
   "codemirror_mode": {
    "name": "ipython",
    "version": 3
   },
   "file_extension": ".py",
   "mimetype": "text/x-python",
   "name": "python",
   "nbconvert_exporter": "python",
   "pygments_lexer": "ipython3",
   "version": "3.10.12"
  }
 },
 "nbformat": 4,
 "nbformat_minor": 4
}

{
 "cells": [
  {
   "cell_type": "markdown",
   "id": "31b417bd-68d5-4d05-8e14-8ce600651809",
   "metadata": {},
   "source": [
    "### How to write a Neural Network in Tensorflow from scratch (without using Keras)\n",
    "\n",
    "[Source](https://medium.com/analytics-vidhya/how-to-write-a-neural-network-in-tensorflow-from-scratch-without-using-keras-e056bb143d78)"
   ]
  },
  {
   "cell_type": "markdown",
   "id": "4ecf9aed-a501-453b-a821-3a994a82eefb",
   "metadata": {},
   "source": [
    "Introduction\n",
    "\n",
    "Writing a simple feedforward neural network is probably the first step in your journey towards mastering deep learning. Today, there are countless libraries and frameworks available to develop a machine learning model. The two most famous and go-to frameworks for developing a machine learning model are Tensorflow and PyTorch. Keras has been integrated into Tensorflow2.0 which undoubtedly makes it easier to write any machine learning code with Tensorflow as the backbone. However, if you are a beginner in the field, you probably want to write your code from scratch in order to understand the ins and outs of a model. I searched the internet for sources that would help me in writing a basic code for a simple feed-forward neural network in TensorFlow but couldn’t find any. Therefore, I thought of writing one myself. Following is the way to get it done!\n",
    "Why not use Keras?\n",
    "\n",
    "\n",
    "![](../../../images/tf-keras.png)\n",
    "\n",
    "\n",
    "1. Learning difference between a keras model and a basic model\n",
    "\n",
    "Keras is a very simple library that helps you write machine learning code in python without any hassle. It is quick, easy, and clean! However, under the hood, Keras does a lot of work to provide you this seamless experience. If you look at the backend code of functions like model.fit() or model.train() on Tensorflow’s github repository, you would find that they contain numerous optimizations like warm start and optimized implementation of functions on hardware level. These tricks definitely make your code run faster but that may not always mean your model is learning the way it should learn. For comparison, if you write a simple 2–3 layered neural network code both using keras and without, you would find a major difference between the loss curves of both the programs. The loss curve for a basic code written without using keras would indicate loss values falling from a high number to a low number whereas, the loss value for keras code would begin with a low value in the first place, and unlike the former coder, wouldn’t significantly fall to a lower value. This does not mean that the keras model does not learn but it just means that the magnitude of learning occurring in a basic code is more than that in a keras code. Optimizing keras code is like peeling a strand of hair.\n",
    "\n",
    "2. Better control over the execution of architecture\n",
    "Sometimes, your architecture may not be a simple sequential neural network. It may contain residual/skip connections or multiple sub neural networks. In such a case, you need more control over the execution of your architecture. Having a custom code definitely proves handy for such use cases.\n",
    "\n",
    "Some other sources for the comparison:\n",
    "1. https://www.javatpoint.com/tensorflow-vs-keras\n",
    "2. https://www.pyimagesearch.com/2019/10/21/keras-vs-tf-keras-whats-the-difference-in-tensorflow-2-0/"
   ]
  },
  {
   "cell_type": "markdown",
   "id": "954a6b3f-d23d-4ce0-a410-63a2d36ff96a",
   "metadata": {},
   "source": [
    "Following is an example of a simple feed forward neural network containing 2 hidden layers that learn to predict mnist digits using gradient descent optimization.\n",
    "\n",
    "![](../../../images/simpleNN.png)"
   ]
  },
  {
   "cell_type": "code",
   "execution_count": 1,
   "id": "44e1bf52-adb9-4689-8cd4-7a1d95ed833e",
   "metadata": {},
   "outputs": [],
   "source": [
    "class Network(object):\n",
    "    '''\n",
    "    This class contains code for a simple feed forward neural network\n",
    "    '''\n",
    "    def __init__(self, n_layers):\n",
    "        '''\n",
    "        constructor\n",
    "        :param n_layers: number of nodes in each layer of the network\n",
    "        '''\n",
    "        # store the parameters of network\n",
    "        self.params = []\n",
    "\n",
    "        # Declare layer-wise weights and biases\n",
    "        self.W1 = tf.Variable(tf.random.normal([n_layers[0], n_layers[1]], stddev=0.1), name='W1')\n",
    "        \n",
    "        # self.b1 = tf.Variable(tf.random.normal([n_layers[1]], mean=0.0, stddev=0.1, dtype=tf.dtypes.float32, seed=0), name='b1')\n",
    "        self.b1 = tf.Variable(tf.zeros([1, n_layers[1]]))\n",
    "        self.W2 = tf.Variable(tf.random.normal([n_layers[1], n_layers[2]], stddev=0.1),name='W2')\n",
    "        # self.b2 = tf.Variable(tf.random.normal([n_layers[2]], mean=0.0, stddev=0.1, dtype=tf.dtypes.float32, seed=0), name='b2')\n",
    "        self.b2 = tf.Variable(tf.zeros([1, n_layers[2]]))\n",
    "        self.W3 = tf.Variable(tf.random.normal([n_layers[2], n_layers[3]],stddev=0.1), name='W3')\n",
    "        # self.b3 = tf.Variable(tf.random.normal([n_layers[3]], mean=0.0, stddev=0.1, dtype=tf.dtypes.float32, seed=0), name='b3')\n",
    "        self.b3 = tf.Variable(tf.zeros([1, n_layers[3]]))\n",
    "        # Collect all initialized weights and biases in self.params\n",
    "        self.params = [self.W1, self.b1, self.W2, self.b2, self.W3, self.b3]"
   ]
  },
  {
   "cell_type": "markdown",
   "id": "097c9c5f-24aa-4f6b-a0d4-d30e4e3d4a86",
   "metadata": {},
   "source": [
    "In the above code snippet, I create a class for a network and initialize it. n_layers contains number of nodes per layer in the network\n",
    "Each weight and bias matrix is initialized using tf.Variable() function\n",
    "We save all the parameters in self.params for further use"
   ]
  }
 ],
 "metadata": {
  "kernelspec": {
   "display_name": "Python 3 (ipykernel)",
   "language": "python",
   "name": "python3"
  },
  "language_info": {
   "codemirror_mode": {
    "name": "ipython",
    "version": 3
   },
   "file_extension": ".py",
   "mimetype": "text/x-python",
   "name": "python",
   "nbconvert_exporter": "python",
   "pygments_lexer": "ipython3",
   "version": "3.12.3"
  }
 },
 "nbformat": 4,
 "nbformat_minor": 5
}
